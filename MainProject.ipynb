{
 "cells": [
  {
   "cell_type": "markdown",
   "id": "fca189d6",
   "metadata": {},
   "source": [
    "Importação das bibliotecas que serão usadas"
   ]
  },
  {
   "cell_type": "code",
   "execution_count": null,
   "id": "ed8caee2",
   "metadata": {},
   "outputs": [],
   "source": [
    "import pandas as pd"
   ]
  },
  {
   "cell_type": "code",
   "execution_count": null,
   "id": "51298910",
   "metadata": {},
   "outputs": [],
   "source": [
    "import joblib"
   ]
  },
  {
   "cell_type": "code",
   "execution_count": null,
   "id": "fb62933c",
   "metadata": {},
   "outputs": [],
   "source": [
    "from scipy.stats import uniform, loguniform,randint"
   ]
  },
  {
   "cell_type": "code",
   "execution_count": null,
   "id": "5cec34e3",
   "metadata": {},
   "outputs": [],
   "source": [
    "from statsmodels.stats.multicomp import MultiComparison"
   ]
  },
  {
   "cell_type": "code",
   "execution_count": null,
   "id": "1f793b71",
   "metadata": {},
   "outputs": [],
   "source": [
    "import numpy as np"
   ]
  },
  {
   "cell_type": "code",
   "execution_count": null,
   "id": "30d7f11b",
   "metadata": {},
   "outputs": [],
   "source": [
    "import matplotlib.pyplot as plt"
   ]
  },
  {
   "cell_type": "code",
   "execution_count": null,
   "id": "d4683f1b",
   "metadata": {},
   "outputs": [],
   "source": [
    "import seaborn as sns"
   ]
  },
  {
   "cell_type": "code",
   "execution_count": null,
   "id": "a578c0a7",
   "metadata": {},
   "outputs": [],
   "source": [
    "import sklearn"
   ]
  },
  {
   "cell_type": "code",
   "execution_count": null,
   "id": "0f7545f1",
   "metadata": {},
   "outputs": [],
   "source": [
    "import plotly.express as px"
   ]
  },
  {
   "cell_type": "markdown",
   "id": "ba16784a",
   "metadata": {},
   "source": [
    "Abrindo a base de dados de treino e teste"
   ]
  },
  {
   "cell_type": "code",
   "execution_count": null,
   "id": "9d1a6d8c",
   "metadata": {},
   "outputs": [],
   "source": [
    "base_treino=pd.read_csv('data/train.csv')"
   ]
  },
  {
   "cell_type": "code",
   "execution_count": null,
   "id": "63417701",
   "metadata": {},
   "outputs": [],
   "source": [
    "base_treino"
   ]
  },
  {
   "cell_type": "code",
   "execution_count": null,
   "id": "543a7c90",
   "metadata": {},
   "outputs": [],
   "source": [
    "base_teste=pd.read_csv('data/test.csv')"
   ]
  },
  {
   "cell_type": "code",
   "execution_count": null,
   "id": "5e7e8a32",
   "metadata": {},
   "outputs": [],
   "source": [
    "base_teste"
   ]
  },
  {
   "cell_type": "markdown",
   "id": "7e7437a0",
   "metadata": {},
   "source": [
    "Visualização dos dados e verificações utilizando isnull nos data frames para caçar dados inconsistentes,nulos e outliers"
   ]
  },
  {
   "cell_type": "code",
   "execution_count": null,
   "id": "6f18f261",
   "metadata": {},
   "outputs": [],
   "source": [
    "base_teste.describe()"
   ]
  },
  {
   "cell_type": "code",
   "execution_count": null,
   "id": "ced55cec",
   "metadata": {},
   "outputs": [],
   "source": [
    "base_treino.describe()"
   ]
  },
  {
   "cell_type": "code",
   "execution_count": null,
   "id": "3146f718",
   "metadata": {},
   "outputs": [],
   "source": [
    "base_teste.isnull().sum()"
   ]
  },
  {
   "cell_type": "code",
   "execution_count": null,
   "id": "ba5f4e8d",
   "metadata": {},
   "outputs": [],
   "source": [
    "base_treino.isnull().sum()"
   ]
  },
  {
   "cell_type": "markdown",
   "id": "df55f2d0",
   "metadata": {},
   "source": [
    "Vemos que não há dados nulos nessas duas tabelas"
   ]
  },
  {
   "cell_type": "markdown",
   "id": "6b7326fa",
   "metadata": {},
   "source": [
    "Como a base de dados é para previsão de regressão ao invés de classificação então não devemos preocupar com desbalanceamento de dados classificadores , se no caso deveriamos fazer undersampling ou oversampling"
   ]
  },
  {
   "cell_type": "markdown",
   "id": "5492f5d0",
   "metadata": {},
   "source": [
    "Partiremos para visualização dos dados"
   ]
  },
  {
   "cell_type": "code",
   "execution_count": null,
   "id": "07384f94",
   "metadata": {},
   "outputs": [],
   "source": [
    "base_treino.info()"
   ]
  },
  {
   "cell_type": "code",
   "execution_count": null,
   "id": "e54fa9b1",
   "metadata": {},
   "outputs": [],
   "source": [
    "base_teste.info()"
   ]
  },
  {
   "cell_type": "code",
   "execution_count": null,
   "id": "aeeae654",
   "metadata": {},
   "outputs": [],
   "source": [
    "print(base_treino['POSTED_BY'].unique())\n",
    "print(base_treino['BHK_OR_RK'].unique())\n",
    "print(len(base_treino['ADDRESS'].unique()))\n",
    "print(len(base_treino[base_treino['POSTED_BY']=='Owner']))\n",
    "print(len(base_treino[base_treino['POSTED_BY']=='Dealer']))"
   ]
  },
  {
   "cell_type": "markdown",
   "id": "702fcc6f",
   "metadata": {},
   "source": [
    "A coluna 'BHK_OR_RK' pode ser dropada pois há muitos valores a mais de BHK do que RK"
   ]
  },
  {
   "cell_type": "code",
   "execution_count": null,
   "id": "3646806a",
   "metadata": {},
   "outputs": [],
   "source": [
    "base_treino=base_treino.drop(columns=['BHK_OR_RK'],axis=1)\n",
    "base_teste=base_teste.drop(columns=['BHK_OR_RK'],axis=1)"
   ]
  },
  {
   "cell_type": "markdown",
   "id": "e9741924",
   "metadata": {},
   "source": [
    "Acabei por remover ADDRESS e POSTED_BY pois gerou melhores resultados no treinamento "
   ]
  },
  {
   "cell_type": "code",
   "execution_count": null,
   "id": "f6834d9a",
   "metadata": {},
   "outputs": [],
   "source": [
    "base_treino=base_treino.drop(columns=['ADDRESS'],axis=1)\n",
    "base_teste=base_teste.drop(columns=['ADDRESS'],axis=1)\n",
    "base_treino=base_treino.drop(columns=['POSTED_BY'],axis=1)\n",
    "base_teste=base_teste.drop(columns=['POSTED_BY'],axis=1)"
   ]
  },
  {
   "cell_type": "markdown",
   "id": "ca98e618",
   "metadata": {},
   "source": [
    "É visto que algumas variáveis como 'UNDER_CONSTRUCTION' E 'RERA' por possuírem valores 0 ou 1 não possuem outliers"
   ]
  },
  {
   "cell_type": "code",
   "execution_count": null,
   "id": "ce20835c",
   "metadata": {},
   "outputs": [],
   "source": [
    "fig=plt.Figure(figsize=(10,15))\n",
    "sns.scatterplot(x=base_treino['UNDER_CONSTRUCTION'],y=base_treino['RERA'])\n",
    "plt.show()"
   ]
  },
  {
   "cell_type": "markdown",
   "id": "bb9672d7",
   "metadata": {},
   "source": [
    "E a variável 'BHK_NO' possue valores de 1 até 20 , possuindo um certo outlier visto que a concentração de dados está nos valores de 1 até 4, sendo na base de teste e treino valores bem insignificantes maiores que esse intervalo de 1 a 4 , não vale a pena retirá los por serem valores bem baixo (menos de 1% da base)"
   ]
  },
  {
   "cell_type": "code",
   "execution_count": null,
   "id": "b1d2da80",
   "metadata": {},
   "outputs": [],
   "source": [
    "base_teste[base_teste['BHK_NO.']>5]"
   ]
  },
  {
   "cell_type": "code",
   "execution_count": null,
   "id": "066286f2",
   "metadata": {},
   "outputs": [],
   "source": [
    "base_treino[base_treino['BHK_NO.']>5]"
   ]
  },
  {
   "cell_type": "code",
   "execution_count": null,
   "id": "bda9129c",
   "metadata": {},
   "outputs": [],
   "source": [
    "fig=plt.Figure(figsize=(10,15))\n",
    "sns.countplot(x=base_treino['BHK_NO.'])\n",
    "plt.show()"
   ]
  },
  {
   "cell_type": "code",
   "execution_count": null,
   "id": "189c3aec",
   "metadata": {},
   "outputs": [],
   "source": [
    "grafico1=px.box(y=base_treino['SQUARE_FT'])\n",
    "grafico1.show()"
   ]
  },
  {
   "cell_type": "code",
   "execution_count": null,
   "id": "72ce76de",
   "metadata": {},
   "outputs": [],
   "source": [
    "media_squareft=base_treino['SQUARE_FT'].mean()\n",
    "media_squareft"
   ]
  },
  {
   "cell_type": "code",
   "execution_count": null,
   "id": "d4985569",
   "metadata": {},
   "outputs": [],
   "source": [
    "tamanho_antes_de_remover_outliers_square_ft=len(base_treino)"
   ]
  },
  {
   "cell_type": "code",
   "execution_count": null,
   "id": "3f6a5f60",
   "metadata": {},
   "outputs": [],
   "source": [
    "base_treino=base_treino[base_treino['SQUARE_FT']<=2527.114]"
   ]
  },
  {
   "cell_type": "code",
   "execution_count": null,
   "id": "e50fbc86",
   "metadata": {},
   "outputs": [],
   "source": [
    "tamanho_depois_de_remover_outliers_square_ft=len(base_treino)"
   ]
  },
  {
   "cell_type": "code",
   "execution_count": null,
   "id": "1cf8163d",
   "metadata": {},
   "outputs": [],
   "source": [
    "((tamanho_antes_de_remover_outliers_square_ft-tamanho_depois_de_remover_outliers_square_ft)/tamanho_antes_de_remover_outliers_square_ft)*100"
   ]
  },
  {
   "cell_type": "markdown",
   "id": "fd500b23",
   "metadata": {},
   "source": [
    "Esses valores são muito acima do upper fance , é melhor remover eles da base de dados para não ocasionar em pesos serem calculados de forma errônea"
   ]
  },
  {
   "cell_type": "code",
   "execution_count": null,
   "id": "103dd604",
   "metadata": {},
   "outputs": [],
   "source": [
    "media_squareft=base_treino['SQUARE_FT'].mean()\n",
    "media_squareft"
   ]
  },
  {
   "cell_type": "markdown",
   "id": "a16441e1",
   "metadata": {},
   "source": [
    "A média saiu de 19802 para 1191 quando retirado os valores considerados outliers , e assim ainda mantendo 94.45% do tamanho da base antes de remover , assim não sendo um valor muito alto de remoção e que vai ajudar bastante as predições"
   ]
  },
  {
   "cell_type": "code",
   "execution_count": null,
   "id": "2e2159b4",
   "metadata": {},
   "outputs": [],
   "source": [
    "grafico1=px.box(y=base_treino['SQUARE_FT'])\n",
    "grafico1.show()"
   ]
  },
  {
   "cell_type": "markdown",
   "id": "54837585",
   "metadata": {},
   "source": [
    "Olhemos agora latitude e longitude"
   ]
  },
  {
   "cell_type": "code",
   "execution_count": null,
   "id": "401e61a3",
   "metadata": {},
   "outputs": [],
   "source": [
    "fig=plt.Figure(figsize=(10,15))\n",
    "sns.scatterplot(x=base_treino['LATITUDE'],y=base_treino['LONGITUDE'])\n",
    "plt.show()"
   ]
  },
  {
   "cell_type": "code",
   "execution_count": null,
   "id": "2e8c9243",
   "metadata": {},
   "outputs": [],
   "source": [
    "base_treino[base_treino['LATITUDE']>60]"
   ]
  },
  {
   "cell_type": "code",
   "execution_count": null,
   "id": "1884b389",
   "metadata": {},
   "outputs": [],
   "source": [
    "len(base_treino)"
   ]
  },
  {
   "cell_type": "markdown",
   "id": "ff97e276",
   "metadata": {},
   "source": [
    "A coluna de latitude estã mais concentrada nos valores entre 60 e 100 , onde valores menores que esses são considerados outliers e sendo apenas 143 registros , para manter a estabilidade do modelo podemos retirar esses valores"
   ]
  },
  {
   "cell_type": "code",
   "execution_count": null,
   "id": "138e2749",
   "metadata": {},
   "outputs": [],
   "source": [
    "base_treino=base_treino[base_treino['LATITUDE']>60]"
   ]
  },
  {
   "cell_type": "code",
   "execution_count": null,
   "id": "517d17ec",
   "metadata": {},
   "outputs": [],
   "source": [
    "fig=plt.Figure(figsize=(10,15))\n",
    "sns.scatterplot(x=base_treino['LATITUDE'],y=base_treino['LONGITUDE'])\n",
    "plt.show()"
   ]
  },
  {
   "cell_type": "code",
   "execution_count": null,
   "id": "e03efeee",
   "metadata": {},
   "outputs": [],
   "source": [
    "base_treino=base_treino[base_treino['LATITUDE']<100]"
   ]
  },
  {
   "cell_type": "code",
   "execution_count": null,
   "id": "7c918f3c",
   "metadata": {},
   "outputs": [],
   "source": [
    "fig=plt.Figure(figsize=(10,15))\n",
    "sns.scatterplot(x=base_treino['LATITUDE'],y=base_treino['LONGITUDE'])\n",
    "plt.show()"
   ]
  },
  {
   "cell_type": "code",
   "execution_count": null,
   "id": "d9aea97a",
   "metadata": {},
   "outputs": [],
   "source": [
    "grafico1=px.box(y=base_treino['TARGET(PRICE_IN_LACS)'])\n",
    "grafico1.show()"
   ]
  },
  {
   "cell_type": "markdown",
   "id": "65000c93",
   "metadata": {},
   "source": [
    "Vemos que agora a base está bem balanceada e corrigida em relação a outliers e dados incosistentes, logo podemos ir para a transformação dos dados"
   ]
  },
  {
   "cell_type": "code",
   "execution_count": null,
   "id": "4ae4ffa3",
   "metadata": {},
   "outputs": [],
   "source": [
    "base_treino.info()"
   ]
  },
  {
   "cell_type": "markdown",
   "id": "a5b64e7c",
   "metadata": {},
   "source": [
    "Agora será feito o treinamento com a base de dados retirando ruídos"
   ]
  },
  {
   "cell_type": "code",
   "execution_count": null,
   "id": "29962492",
   "metadata": {},
   "outputs": [],
   "source": [
    "base_treino"
   ]
  },
  {
   "cell_type": "code",
   "execution_count": null,
   "id": "55b681a5",
   "metadata": {},
   "outputs": [],
   "source": [
    "base_teste"
   ]
  },
  {
   "cell_type": "code",
   "execution_count": null,
   "id": "a8fa4551",
   "metadata": {},
   "outputs": [],
   "source": [
    "X_treino=base_treino.iloc[:,[0,1,2,3,4,5,6,7]].values\n",
    "X_teste=base_teste.iloc[:,[0,1,2,3,4,5,6,7]].values\n",
    "Y=base_treino['TARGET(PRICE_IN_LACS)'].values"
   ]
  },
  {
   "cell_type": "code",
   "execution_count": null,
   "id": "916a6fc9",
   "metadata": {},
   "outputs": [],
   "source": [
    "X_treino"
   ]
  },
  {
   "cell_type": "code",
   "execution_count": null,
   "id": "b15b1e1b",
   "metadata": {},
   "outputs": [],
   "source": [
    "column_transformer=sklearn.compose.ColumnTransformer(\n",
    "    transformers=[\n",
    "        ('Scaler',sklearn.preprocessing.StandardScaler(),[0,1,2,3,4,5,6,7])]\n",
    ",remainder='passthrough')"
   ]
  },
  {
   "cell_type": "code",
   "execution_count": null,
   "id": "27186b22",
   "metadata": {},
   "outputs": [],
   "source": [
    "X_treino=column_transformer.fit_transform(X_treino)"
   ]
  },
  {
   "cell_type": "code",
   "execution_count": null,
   "id": "c18860c1",
   "metadata": {},
   "outputs": [],
   "source": [
    "X_teste=column_transformer.transform(X_teste)"
   ]
  },
  {
   "cell_type": "code",
   "execution_count": null,
   "id": "33a5263e",
   "metadata": {},
   "outputs": [],
   "source": [
    "X_treino.shape,X_teste.shape"
   ]
  },
  {
   "cell_type": "code",
   "execution_count": null,
   "id": "c0f8742b",
   "metadata": {},
   "outputs": [],
   "source": [
    "Y.shape"
   ]
  },
  {
   "cell_type": "code",
   "execution_count": null,
   "id": "6e4c39ab",
   "metadata": {},
   "outputs": [],
   "source": [
    "scaler=sklearn.preprocessing.StandardScaler()"
   ]
  },
  {
   "cell_type": "code",
   "execution_count": null,
   "id": "8afc016c",
   "metadata": {},
   "outputs": [],
   "source": [
    "Y=scaler.fit_transform(Y.reshape(-1,1))"
   ]
  },
  {
   "cell_type": "code",
   "execution_count": null,
   "id": "3cce74d2",
   "metadata": {},
   "outputs": [],
   "source": [
    "X_treino"
   ]
  },
  {
   "cell_type": "code",
   "execution_count": null,
   "id": "24fc4170",
   "metadata": {},
   "outputs": [],
   "source": [
    "X_teste"
   ]
  },
  {
   "cell_type": "markdown",
   "id": "c2b20638",
   "metadata": {},
   "source": [
    "Agora separamos também os dados de forma completa sem retirar os ruidos mas retirando 'POSTED_BY','ADRESS' e 'BHK_OR_RK'"
   ]
  },
  {
   "cell_type": "code",
   "execution_count": null,
   "id": "eabb49cf",
   "metadata": {},
   "outputs": [],
   "source": [
    "X_treino_com_ruido=pd.read_csv('data/train.csv')"
   ]
  },
  {
   "cell_type": "code",
   "execution_count": null,
   "id": "5936505a",
   "metadata": {},
   "outputs": [],
   "source": [
    "X_treino_com_ruido.drop(columns=['BHK_OR_RK','ADDRESS','POSTED_BY'],axis=1,inplace=True)"
   ]
  },
  {
   "cell_type": "code",
   "execution_count": null,
   "id": "be061200",
   "metadata": {},
   "outputs": [],
   "source": [
    "X_treino_com_ruido"
   ]
  },
  {
   "cell_type": "code",
   "execution_count": null,
   "id": "446294b9",
   "metadata": {},
   "outputs": [],
   "source": [
    "X_treino_com_ruido=X_treino_com_ruido.iloc[:,:8].values"
   ]
  },
  {
   "cell_type": "code",
   "execution_count": null,
   "id": "01e659f7",
   "metadata": {},
   "outputs": [],
   "source": [
    "X_treino_com_ruido=column_transformer.fit_transform(X_treino_com_ruido)"
   ]
  },
  {
   "cell_type": "code",
   "execution_count": null,
   "id": "637e016d",
   "metadata": {},
   "outputs": [],
   "source": [
    "Y_com_ruido=pd.read_csv('data/train.csv')"
   ]
  },
  {
   "cell_type": "code",
   "execution_count": null,
   "id": "95ee9f4b",
   "metadata": {},
   "outputs": [],
   "source": [
    "Y_com_ruido=Y_com_ruido['TARGET(PRICE_IN_LACS)'].values"
   ]
  },
  {
   "cell_type": "code",
   "execution_count": null,
   "id": "8d5082b9",
   "metadata": {},
   "outputs": [],
   "source": [
    "Y_com_ruido=scaler.fit_transform(Y_com_ruido.reshape(-1,1))"
   ]
  },
  {
   "cell_type": "markdown",
   "id": "393a3f0d",
   "metadata": {},
   "source": [
    "Agora que a base de dados de treino ,teste e o target estão separados podemos partir para o grid search onde veremos os melhores parametros para cada modelo e depois compararemos os desempenhos dos modelos"
   ]
  },
  {
   "cell_type": "code",
   "execution_count": null,
   "id": "91e82f82",
   "metadata": {},
   "outputs": [],
   "source": [
    "parametros_decision_tree={'max_depth':[5]}"
   ]
  },
  {
   "cell_type": "code",
   "execution_count": null,
   "id": "4b239509",
   "metadata": {},
   "outputs": [],
   "source": [
    "grid_search_decision_three=sklearn.model_selection.GridSearchCV(estimator=sklearn.tree.DecisionTreeRegressor(),param_grid=parametros_decision_tree,verbose=2)"
   ]
  },
  {
   "cell_type": "code",
   "execution_count": null,
   "id": "d76a2827",
   "metadata": {},
   "outputs": [],
   "source": [
    "grid_search_decision_three.fit(X_treino,Y)"
   ]
  },
  {
   "cell_type": "code",
   "execution_count": null,
   "id": "b1354b21",
   "metadata": {},
   "outputs": [],
   "source": [
    "grid_search_decision_three.best_params_"
   ]
  },
  {
   "cell_type": "code",
   "execution_count": null,
   "id": "be9dada2",
   "metadata": {},
   "outputs": [],
   "source": [
    "grid_search_decision_three.best_score_"
   ]
  },
  {
   "cell_type": "code",
   "execution_count": null,
   "id": "2d6e4970",
   "metadata": {},
   "outputs": [],
   "source": [
    "parametros_knn={'n_neighbors':[3,5,10,20,25],'weights':['uniform','distance'],'p':[1,2],'algorithm':['auto','ball_tree', 'kd_tree']}"
   ]
  },
  {
   "cell_type": "code",
   "execution_count": null,
   "id": "8dd8e396",
   "metadata": {},
   "outputs": [],
   "source": [
    "grid_search_knn=sklearn.model_selection.GridSearchCV(estimator=sklearn.neighbors.KNeighborsRegressor(),param_grid=parametros_knn,verbose=2)"
   ]
  },
  {
   "cell_type": "code",
   "execution_count": null,
   "id": "f57628fc",
   "metadata": {},
   "outputs": [],
   "source": [
    "grid_search_knn.fit(X_treino,Y)"
   ]
  },
  {
   "cell_type": "code",
   "execution_count": null,
   "id": "ff81046e",
   "metadata": {},
   "outputs": [],
   "source": [
    "grid_search_knn.best_params_"
   ]
  },
  {
   "cell_type": "code",
   "execution_count": null,
   "id": "e743eb7e",
   "metadata": {},
   "outputs": [],
   "source": [
    "best_params_knn=grid_search_knn.best_params_"
   ]
  },
  {
   "cell_type": "code",
   "execution_count": null,
   "id": "8302c869",
   "metadata": {},
   "outputs": [],
   "source": [
    "grid_search_knn.best_score_"
   ]
  },
  {
   "cell_type": "code",
   "execution_count": null,
   "id": "b4e49379",
   "metadata": {},
   "outputs": [],
   "source": [
    "parametros_random_forest={'criterion':['squared_error'],'n_estimators':[40,60],'min_samples_split':[2,5,7],'min_samples_leaf':[1,5,7]}"
   ]
  },
  {
   "cell_type": "code",
   "execution_count": null,
   "id": "0567424e",
   "metadata": {},
   "outputs": [],
   "source": [
    "grid_search_random_forest=sklearn.model_selection.GridSearchCV(estimator=sklearn.ensemble.RandomForestRegressor(),param_grid=parametros_random_forest,verbose=2)"
   ]
  },
  {
   "cell_type": "code",
   "execution_count": null,
   "id": "1497b2c4",
   "metadata": {},
   "outputs": [],
   "source": [
    "grid_search_random_forest.fit(X_treino,Y.ravel())"
   ]
  },
  {
   "cell_type": "code",
   "execution_count": null,
   "id": "e67254d2",
   "metadata": {},
   "outputs": [],
   "source": [
    "grid_search_random_forest.best_params_"
   ]
  },
  {
   "cell_type": "code",
   "execution_count": null,
   "id": "4c6bc430",
   "metadata": {},
   "outputs": [],
   "source": [
    "grid_search_random_forest.best_score_"
   ]
  },
  {
   "cell_type": "code",
   "execution_count": null,
   "id": "6aa3a421",
   "metadata": {},
   "outputs": [],
   "source": [
    "parametros_regressao_linear={\n",
    "    'fit_intercept': [True, False]\n",
    "}"
   ]
  },
  {
   "cell_type": "code",
   "execution_count": null,
   "id": "aacc1026",
   "metadata": {},
   "outputs": [],
   "source": [
    "grid_search_regressao_linear=sklearn.model_selection.GridSearchCV(estimator=sklearn.linear_model.LinearRegression(),param_grid=parametros_regressao_linear,verbose=2)"
   ]
  },
  {
   "cell_type": "code",
   "execution_count": null,
   "id": "725f0f40",
   "metadata": {},
   "outputs": [],
   "source": [
    "poly=sklearn.preprocessing.PolynomialFeatures(degree=3)"
   ]
  },
  {
   "cell_type": "code",
   "execution_count": null,
   "id": "0ca17408",
   "metadata": {},
   "outputs": [],
   "source": [
    "grid_search_regressao_linear.fit(poly.fit_transform(X_treino),Y.ravel())"
   ]
  },
  {
   "cell_type": "code",
   "execution_count": null,
   "id": "2c248940",
   "metadata": {},
   "outputs": [],
   "source": [
    "grid_search_regressao_linear.best_params_"
   ]
  },
  {
   "cell_type": "code",
   "execution_count": null,
   "id": "e4c8bb42",
   "metadata": {},
   "outputs": [],
   "source": [
    "grid_search_regressao_linear.best_score_"
   ]
  },
  {
   "cell_type": "code",
   "execution_count": null,
   "id": "5332067b",
   "metadata": {},
   "outputs": [],
   "source": [
    "param_dist_svm = {\n",
    "    'C': loguniform(1e-2, 1e2),      \n",
    "    'epsilon': uniform(0.01, 1.0),   \n",
    "    'kernel': ['rbf', 'poly'],\n",
    "    'gamma': ['auto']       \n",
    "}"
   ]
  },
  {
   "cell_type": "code",
   "execution_count": null,
   "id": "ec3d21b5",
   "metadata": {},
   "outputs": [],
   "source": [
    "randozimed_search_svm=sklearn.model_selection.RandomizedSearchCV(estimator=sklearn.svm.SVR(),n_iter=25,scoring='r2',cv=3,verbose=2,n_jobs=-1,random_state=42,param_distributions=param_dist_svm)"
   ]
  },
  {
   "cell_type": "code",
   "execution_count": null,
   "id": "85a945ad",
   "metadata": {},
   "outputs": [],
   "source": [
    "randozimed_search_svm.fit(X_treino,Y.ravel())"
   ]
  },
  {
   "cell_type": "code",
   "execution_count": null,
   "id": "67648642",
   "metadata": {},
   "outputs": [],
   "source": [
    "randozimed_search_svm.best_params_"
   ]
  },
  {
   "cell_type": "code",
   "execution_count": null,
   "id": "67d6a76f",
   "metadata": {},
   "outputs": [],
   "source": [
    "randozimed_search_svm.best_score_"
   ]
  },
  {
   "cell_type": "code",
   "execution_count": null,
   "id": "f6b3b402",
   "metadata": {},
   "outputs": [],
   "source": [
    "param_dist_rede_neural = {\n",
    "    'hidden_layer_sizes': [(randint.rvs(50, 200),),      # 1 camada oculta\n",
    "                           (randint.rvs(50, 200), randint.rvs(20, 100)),  # 2 camadas\n",
    "                           (randint.rvs(50, 200), randint.rvs(20, 100), randint.rvs(10, 50))], # 3 camadas\n",
    "    'activation': ['relu', 'tanh', 'logistic'],\n",
    "    'solver': ['adam', 'sgd'],\n",
    "    'alpha': uniform(1e-5, 1e-2),   # regularização L2\n",
    "    'learning_rate_init': uniform(1e-4, 1e-2),\n",
    "}"
   ]
  },
  {
   "cell_type": "code",
   "execution_count": null,
   "id": "882853ff",
   "metadata": {},
   "outputs": [],
   "source": [
    "random_search_rede_neural = sklearn.model_selection.RandomizedSearchCV(\n",
    "    estimator=sklearn.neural_network.MLPRegressor(max_iter=1000,random_state=42),\n",
    "    param_distributions=param_dist_rede_neural,\n",
    "    n_iter=20,         \n",
    "    scoring='r2',\n",
    "    cv=3,\n",
    "    verbose=2,\n",
    "    n_jobs=-1,\n",
    "    random_state=42\n",
    ")"
   ]
  },
  {
   "cell_type": "code",
   "execution_count": null,
   "id": "d51d8863",
   "metadata": {},
   "outputs": [],
   "source": [
    "random_search_rede_neural.fit(X_treino,Y.ravel())"
   ]
  },
  {
   "cell_type": "code",
   "execution_count": null,
   "id": "42f17af0",
   "metadata": {},
   "outputs": [],
   "source": [
    "random_search_rede_neural.best_params_"
   ]
  },
  {
   "cell_type": "code",
   "execution_count": null,
   "id": "30a863c5",
   "metadata": {},
   "outputs": [],
   "source": [
    "random_search_rede_neural.best_score_"
   ]
  },
  {
   "cell_type": "markdown",
   "id": "d29f1a2f",
   "metadata": {},
   "source": [
    "Depois de fazer o GridSearch e RandomizedSearch podemos partir para as validações cruzadas utilizando o k-folds"
   ]
  },
  {
   "cell_type": "code",
   "execution_count": null,
   "id": "0044fab6",
   "metadata": {},
   "outputs": [],
   "source": [
    "resultados_decision_tree=[]\n",
    "resultados_knn=[]\n",
    "resultados_linear_regression=[]\n",
    "resultados_SVR=[]\n",
    "resultados_rede_neural=[]\n",
    "resultados_random_forest=[]\n",
    "for i in range(15):\n",
    "    k_fold=sklearn.model_selection.KFold(n_splits=2,shuffle=True,random_state=i)\n",
    "    knn=sklearn.neighbors.KNeighborsRegressor(algorithm='ball_tree', n_neighbors=20, p= 1, weights='distance')\n",
    "    decision_tree=sklearn.tree.DecisionTreeRegressor(max_depth=5)\n",
    "    linear_regression=sklearn.linear_model.LinearRegression(fit_intercept =False)\n",
    "    svr=sklearn.svm.SVR(C=np.float64(85.68869785189007),epsilon=np.float64(0.47676289324797994),gamma='auto',kernel='rbf')\n",
    "    rede_neural=sklearn.neural_network.MLPRegressor(activation='tanh',alpha=np.float64(0.0009867211400638386),hidden_layer_sizes=(142, 88, 39),learning_rate_init=np.float64(0.006932635188254582),solver='sgd')\n",
    "    random_forest=sklearn.ensemble.RandomForestRegressor(criterion='squared_error',min_samples_leaf=1,min_samples_split=5,n_estimators=60)\n",
    "    scores_decision_tree=sklearn.model_selection.cross_val_score(decision_tree,X_treino,Y.ravel(),cv=k_fold)\n",
    "    scores_knn=sklearn.model_selection.cross_val_score(knn,X_treino,Y.ravel(),cv=k_fold)\n",
    "    scores_linear_regression=sklearn.model_selection.cross_val_score(linear_regression,X_treino,Y.ravel(),cv=k_fold)\n",
    "    scores_svr=sklearn.model_selection.cross_val_score(svr,X_treino,Y.ravel(),cv=k_fold)\n",
    "    scores_rede_neural=sklearn.model_selection.cross_val_score(rede_neural,X_treino,Y.ravel(),cv=k_fold)\n",
    "    scores_random_forest=sklearn.model_selection.cross_val_score(random_forest,X_treino,Y.ravel(),cv=k_fold)\n",
    "    resultados_decision_tree.append(scores_decision_tree.mean())\n",
    "    resultados_knn.append(scores_knn.mean())\n",
    "    resultados_linear_regression.append(scores_linear_regression.mean())\n",
    "    resultados_SVR.append(scores_svr.mean())\n",
    "    resultados_rede_neural.append(scores_rede_neural.mean())\n",
    "    resultados_random_forest.append(scores_random_forest.mean())\n",
    "    print(i)\n",
    "    "
   ]
  },
  {
   "cell_type": "markdown",
   "id": "e2ee28b3",
   "metadata": {},
   "source": [
    "Colocamos os resultados em um data frame para uma boa visualização e depois em uma lista para ser utilizado no MultiComparison"
   ]
  },
  {
   "cell_type": "code",
   "execution_count": null,
   "id": "0ebb09bc",
   "metadata": {},
   "outputs": [],
   "source": [
    "data_frame=pd.DataFrame({'SVR':resultados_SVR,'KNN':resultados_knn,'Regressao linear':resultados_linear_regression,'Random Forest':resultados_random_forest,'Rede neural':resultados_rede_neural,'Árvore de decisao':resultados_decision_tree})"
   ]
  },
  {
   "cell_type": "code",
   "execution_count": null,
   "id": "ba79b8ea",
   "metadata": {},
   "outputs": [],
   "source": [
    "data_frame"
   ]
  },
  {
   "cell_type": "code",
   "execution_count": null,
   "id": "9900e031",
   "metadata": {},
   "outputs": [],
   "source": [
    "lista=['SVR','KNN','Regressao linear','Random Forest','Rede neural','Árvore de decisao']\n",
    "algoritmos=[]\n",
    "resultados=[]"
   ]
  },
  {
   "cell_type": "code",
   "execution_count": null,
   "id": "96c10dc5",
   "metadata": {},
   "outputs": [],
   "source": [
    "cont=0\n",
    "indice=0\n",
    "for i in range(0,90):\n",
    "    if i%15==0 and i!=0:\n",
    "        cont+=1\n",
    "    algoritmos.append(lista[cont])\n",
    "    if(indice==15):\n",
    "        indice=0\n",
    "    resultados.append(data_frame.iloc[indice,cont])\n",
    "    indice+=1\n",
    "    \n"
   ]
  },
  {
   "cell_type": "code",
   "execution_count": null,
   "id": "4d4b7347",
   "metadata": {},
   "outputs": [],
   "source": [
    "resultados_concatenados={'accuracy':resultados,'algoritmos':algoritmos}"
   ]
  },
  {
   "cell_type": "code",
   "execution_count": null,
   "id": "88d87f67",
   "metadata": {},
   "outputs": [],
   "source": [
    "resultados_concatenados"
   ]
  },
  {
   "cell_type": "code",
   "execution_count": null,
   "id": "f7069276",
   "metadata": {},
   "outputs": [],
   "source": [
    "data_frame_algoritmos=pd.DataFrame(resultados_concatenados)"
   ]
  },
  {
   "cell_type": "code",
   "execution_count": null,
   "id": "a13740f3",
   "metadata": {},
   "outputs": [],
   "source": [
    "data_frame_algoritmos"
   ]
  },
  {
   "cell_type": "code",
   "execution_count": null,
   "id": "73d1e8d9",
   "metadata": {},
   "outputs": [],
   "source": [
    "compara_algoritmos=MultiComparison(data_frame_algoritmos['accuracy'],data_frame_algoritmos['algoritmos'])"
   ]
  },
  {
   "cell_type": "code",
   "execution_count": null,
   "id": "5389c8e9",
   "metadata": {},
   "outputs": [],
   "source": [
    "compara_algoritmos.tukeyhsd().plot_simultaneous()"
   ]
  },
  {
   "cell_type": "markdown",
   "id": "db7c72e2",
   "metadata": {},
   "source": [
    "Esse foi o teste com a base de dados retirando outliers , agora utilizarei com a base cheia"
   ]
  },
  {
   "cell_type": "code",
   "execution_count": null,
   "id": "63465e47",
   "metadata": {},
   "outputs": [],
   "source": [
    "resultados_decision_tree=[]\n",
    "resultados_knn=[]\n",
    "resultados_linear_regression=[]\n",
    "resultados_SVR=[]\n",
    "resultados_rede_neural=[]\n",
    "resultados_random_forest=[]\n",
    "resultados_gbr=[]\n",
    "for i in range(15):\n",
    "    k_fold=sklearn.model_selection.KFold(n_splits=2,shuffle=True,random_state=i)\n",
    "    gbr=sklearn.ensemble.GradientBoostingRegressor(random_state=69)\n",
    "    knn=sklearn.neighbors.KNeighborsRegressor(algorithm='ball_tree', n_neighbors=20, p= 1, weights='distance')\n",
    "    decision_tree=sklearn.tree.DecisionTreeRegressor(max_depth=5)\n",
    "    linear_regression=sklearn.linear_model.LinearRegression(fit_intercept =False)\n",
    "    svr=sklearn.svm.SVR(C=np.float64(85.68869785189007),epsilon=np.float64(0.47676289324797994),gamma='auto',kernel='rbf')\n",
    "    rede_neural=sklearn.neural_network.MLPRegressor(activation='tanh',alpha=np.float64(0.0009867211400638386),hidden_layer_sizes=(142, 88, 39),learning_rate_init=np.float64(0.006932635188254582),solver='sgd')\n",
    "    random_forest=sklearn.ensemble.RandomForestRegressor(criterion='squared_error',min_samples_leaf=1,min_samples_split=5,n_estimators=60)\n",
    "    scores_decision_tree=sklearn.model_selection.cross_val_score(decision_tree,X_treino_com_ruido,Y_com_ruido.ravel(),cv=k_fold)\n",
    "    scores_gbr=sklearn.model_selection.cross_val_score(gbr,X_treino_com_ruido,Y_com_ruido.ravel(),cv=k_fold)\n",
    "    scores_knn=sklearn.model_selection.cross_val_score(knn,X_treino_com_ruido,Y_com_ruido.ravel(),cv=k_fold)\n",
    "    scores_linear_regression=sklearn.model_selection.cross_val_score(linear_regression,X_treino_com_ruido,Y_com_ruido.ravel(),cv=k_fold)\n",
    "    scores_svr=sklearn.model_selection.cross_val_score(svr,X_treino_com_ruido,Y_com_ruido.ravel(),cv=k_fold)\n",
    "    scores_rede_neural=sklearn.model_selection.cross_val_score(rede_neural,X_treino_com_ruido,Y_com_ruido.ravel(),cv=k_fold)\n",
    "    scores_random_forest=sklearn.model_selection.cross_val_score(random_forest,X_treino_com_ruido,Y_com_ruido.ravel(),cv=k_fold)\n",
    "    resultados_decision_tree.append(scores_decision_tree.mean())\n",
    "    resultados_knn.append(scores_knn.mean())\n",
    "    resultados_linear_regression.append(scores_linear_regression.mean())\n",
    "    resultados_SVR.append(scores_svr.mean())\n",
    "    resultados_rede_neural.append(scores_rede_neural.mean())\n",
    "    resultados_random_forest.append(scores_random_forest.mean())\n",
    "    resultados_gbr.append(scores_gbr.mean())\n",
    "    print(i)"
   ]
  },
  {
   "cell_type": "code",
   "execution_count": null,
   "id": "3ded9899",
   "metadata": {},
   "outputs": [],
   "source": [
    "data_frame=pd.DataFrame({'SVR':resultados_SVR,'KNN':resultados_knn,'Regressao linear':resultados_linear_regression,'Random Forest':resultados_random_forest,'Rede neural':resultados_rede_neural,'Árvore de decisao':resultados_decision_tree,'GBR':resultados_gbr})"
   ]
  },
  {
   "cell_type": "code",
   "execution_count": null,
   "id": "650acfc0",
   "metadata": {},
   "outputs": [],
   "source": [
    "lista=['SVR','KNN','Regressao linear','Random Forest','Rede neural','Árvore de decisao','GBR']\n",
    "algoritmos=[]\n",
    "resultados=[]"
   ]
  },
  {
   "cell_type": "code",
   "execution_count": null,
   "id": "3ffc48f4",
   "metadata": {},
   "outputs": [],
   "source": [
    "cont=0\n",
    "indice=0\n",
    "for i in range(0,105):\n",
    "    if i%15==0 and i!=0:\n",
    "        cont+=1\n",
    "    algoritmos.append(lista[cont])\n",
    "    if(indice==15):\n",
    "        indice=0\n",
    "    resultados.append(data_frame.iloc[indice,cont])\n",
    "    indice+=1"
   ]
  },
  {
   "cell_type": "code",
   "execution_count": null,
   "id": "48165a09",
   "metadata": {},
   "outputs": [],
   "source": [
    "resultados_concatenados={'accuracy':resultados,'algoritmos':algoritmos}"
   ]
  },
  {
   "cell_type": "code",
   "execution_count": null,
   "id": "c18ba662",
   "metadata": {},
   "outputs": [],
   "source": [
    "data_frame_algoritmos=pd.DataFrame(resultados_concatenados)"
   ]
  },
  {
   "cell_type": "code",
   "execution_count": null,
   "id": "a7447eb3",
   "metadata": {},
   "outputs": [],
   "source": [
    "data_frame_algoritmos=data_frame_algoritmos[data_frame_algoritmos['accuracy']>0]"
   ]
  },
  {
   "cell_type": "code",
   "execution_count": null,
   "id": "9029389f",
   "metadata": {},
   "outputs": [],
   "source": [
    "data_frame_algoritmos"
   ]
  },
  {
   "cell_type": "code",
   "execution_count": null,
   "id": "71c4cafd",
   "metadata": {},
   "outputs": [],
   "source": [
    "compara_algoritmos=MultiComparison(data_frame_algoritmos['accuracy'],data_frame_algoritmos['algoritmos'])"
   ]
  },
  {
   "cell_type": "code",
   "execution_count": null,
   "id": "9a0a4bac",
   "metadata": {},
   "outputs": [],
   "source": [
    "compara_algoritmos.tukeyhsd().plot_simultaneous()"
   ]
  },
  {
   "cell_type": "markdown",
   "id": "f76e1959",
   "metadata": {},
   "source": [
    "No final podemos perceber que o modelo GradientBoostingRegressor obteve resultados melhores do que os demais,além de que o treinamento utilizando a base com outliers obteve uma precisão muito superior a base sem outliers,isso mostrando que os outliers tinha uma parte importante para modelar melhor os pesos e gerar um resultado além do esperado."
   ]
  },
  {
   "cell_type": "markdown",
   "id": "11d5d19d",
   "metadata": {},
   "source": [
    "O GradientBoostingRegressor não passou por Grid ou RandomizedSearch pois foi só para uso de testes e acabou sendo superior aos demais modelos, até porque o teste dos demais foi de grande demora computacional e mais um modelo que possui muita parametrização iria custar bantante tempo para esse projeto que considerei pequeno por ser o primeiro feito por mim após meus estudos sobre ML e dados."
   ]
  }
 ],
 "metadata": {
  "hide_input": false,
  "kernelspec": {
   "display_name": "datascience",
   "language": "python",
   "name": "python3"
  },
  "language_info": {
   "codemirror_mode": {
    "name": "ipython",
    "version": 3
   },
   "file_extension": ".py",
   "mimetype": "text/x-python",
   "name": "python",
   "nbconvert_exporter": "python",
   "pygments_lexer": "ipython3",
   "version": "3.11.9"
  },
  "toc": {
   "base_numbering": 1,
   "nav_menu": {},
   "number_sections": true,
   "sideBar": true,
   "skip_h1_title": false,
   "title_cell": "Table of Contents",
   "title_sidebar": "Contents",
   "toc_cell": false,
   "toc_position": {},
   "toc_section_display": true,
   "toc_window_display": false
  },
  "varInspector": {
   "cols": {
    "lenName": 16,
    "lenType": 16,
    "lenVar": 40
   },
   "kernels_config": {
    "python": {
     "delete_cmd_postfix": "",
     "delete_cmd_prefix": "del ",
     "library": "var_list.py",
     "varRefreshCmd": "print(var_dic_list())"
    },
    "r": {
     "delete_cmd_postfix": ") ",
     "delete_cmd_prefix": "rm(",
     "library": "var_list.r",
     "varRefreshCmd": "cat(var_dic_list()) "
    }
   },
   "types_to_exclude": [
    "module",
    "function",
    "builtin_function_or_method",
    "instance",
    "_Feature"
   ],
   "window_display": false
  }
 },
 "nbformat": 4,
 "nbformat_minor": 5
}
